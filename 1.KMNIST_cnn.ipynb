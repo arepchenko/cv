{
 "cells": [
  {
   "cell_type": "markdown",
   "metadata": {},
   "source": [
    "# Импорт библиотек"
   ]
  },
  {
   "cell_type": "code",
   "execution_count": 1,
   "metadata": {
    "_cell_guid": "b1076dfc-b9ad-4769-8c92-a6c4dae69d19",
    "_uuid": "8f2839f25d086af736a60e9eeb907d3b93b6e0e5",
    "execution": {
     "iopub.execute_input": "2021-09-21T14:01:16.095230Z",
     "iopub.status.busy": "2021-09-21T14:01:16.094915Z",
     "iopub.status.idle": "2021-09-21T14:01:16.110413Z",
     "shell.execute_reply": "2021-09-21T14:01:16.109444Z",
     "shell.execute_reply.started": "2021-09-21T14:01:16.095145Z"
    }
   },
   "outputs": [
    {
     "name": "stdout",
     "output_type": "stream",
     "text": [
      "/kaggle/input/Kannada-MNIST/sample_submission.csv\n",
      "/kaggle/input/Kannada-MNIST/Dig-MNIST.csv\n",
      "/kaggle/input/Kannada-MNIST/train.csv\n",
      "/kaggle/input/Kannada-MNIST/test.csv\n"
     ]
    }
   ],
   "source": [
    "import numpy as np\n",
    "import pandas as pd\n",
    "from sklearn.model_selection import train_test_split\n",
    "import torch\n",
    "import torch.nn as nn\n",
    "import torch.optim as optim\n",
    "from torch.utils.data import Dataset, DataLoader\n",
    "from torchvision import transforms\n",
    "\n",
    "from tqdm import tqdm\n",
    "\n",
    "import os\n",
    "for dirname, _, filenames in os.walk('/kaggle/input'):\n",
    "    for filename in filenames:\n",
    "        print(os.path.join(dirname, filename))       \n",
    "\n",
    "%matplotlib inline\n",
    "import matplotlib.pyplot as plt\n",
    "import seaborn as sns\n",
    "sns.set_theme(style=\"dark\")"
   ]
  },
  {
   "cell_type": "markdown",
   "metadata": {},
   "source": [
    "# Работа с данными\n",
    "\n",
    "Считаем данные из csv-файла и проанализируем их."
   ]
  },
  {
   "cell_type": "code",
   "execution_count": 13,
   "metadata": {
    "execution": {
     "iopub.execute_input": "2021-09-21T14:10:29.011321Z",
     "iopub.status.busy": "2021-09-21T14:10:29.010927Z",
     "iopub.status.idle": "2021-09-21T14:10:33.692130Z",
     "shell.execute_reply": "2021-09-21T14:10:33.691157Z",
     "shell.execute_reply.started": "2021-09-21T14:10:29.011287Z"
    }
   },
   "outputs": [],
   "source": [
    "df_train = pd.read_csv('../input/Kannada-MNIST/train.csv')\n",
    "df_test = pd.read_csv('../input/Kannada-MNIST/test.csv')"
   ]
  },
  {
   "cell_type": "code",
   "execution_count": 15,
   "metadata": {
    "execution": {
     "iopub.execute_input": "2021-09-21T14:12:17.209219Z",
     "iopub.status.busy": "2021-09-21T14:12:17.208854Z",
     "iopub.status.idle": "2021-09-21T14:12:17.240821Z",
     "shell.execute_reply": "2021-09-21T14:12:17.239874Z",
     "shell.execute_reply.started": "2021-09-21T14:12:17.209189Z"
    }
   },
   "outputs": [
    {
     "data": {
      "text/html": [
       "<div>\n",
       "<style scoped>\n",
       "    .dataframe tbody tr th:only-of-type {\n",
       "        vertical-align: middle;\n",
       "    }\n",
       "\n",
       "    .dataframe tbody tr th {\n",
       "        vertical-align: top;\n",
       "    }\n",
       "\n",
       "    .dataframe thead th {\n",
       "        text-align: right;\n",
       "    }\n",
       "</style>\n",
       "<table border=\"1\" class=\"dataframe\">\n",
       "  <thead>\n",
       "    <tr style=\"text-align: right;\">\n",
       "      <th></th>\n",
       "      <th>label</th>\n",
       "      <th>pixel0</th>\n",
       "      <th>pixel1</th>\n",
       "      <th>pixel2</th>\n",
       "      <th>pixel3</th>\n",
       "      <th>pixel4</th>\n",
       "      <th>pixel5</th>\n",
       "      <th>pixel6</th>\n",
       "      <th>pixel7</th>\n",
       "      <th>pixel8</th>\n",
       "      <th>...</th>\n",
       "      <th>pixel774</th>\n",
       "      <th>pixel775</th>\n",
       "      <th>pixel776</th>\n",
       "      <th>pixel777</th>\n",
       "      <th>pixel778</th>\n",
       "      <th>pixel779</th>\n",
       "      <th>pixel780</th>\n",
       "      <th>pixel781</th>\n",
       "      <th>pixel782</th>\n",
       "      <th>pixel783</th>\n",
       "    </tr>\n",
       "  </thead>\n",
       "  <tbody>\n",
       "    <tr>\n",
       "      <th>0</th>\n",
       "      <td>0</td>\n",
       "      <td>0</td>\n",
       "      <td>0</td>\n",
       "      <td>0</td>\n",
       "      <td>0</td>\n",
       "      <td>0</td>\n",
       "      <td>0</td>\n",
       "      <td>0</td>\n",
       "      <td>0</td>\n",
       "      <td>0</td>\n",
       "      <td>...</td>\n",
       "      <td>0</td>\n",
       "      <td>0</td>\n",
       "      <td>0</td>\n",
       "      <td>0</td>\n",
       "      <td>0</td>\n",
       "      <td>0</td>\n",
       "      <td>0</td>\n",
       "      <td>0</td>\n",
       "      <td>0</td>\n",
       "      <td>0</td>\n",
       "    </tr>\n",
       "    <tr>\n",
       "      <th>1</th>\n",
       "      <td>1</td>\n",
       "      <td>0</td>\n",
       "      <td>0</td>\n",
       "      <td>0</td>\n",
       "      <td>0</td>\n",
       "      <td>0</td>\n",
       "      <td>0</td>\n",
       "      <td>0</td>\n",
       "      <td>0</td>\n",
       "      <td>0</td>\n",
       "      <td>...</td>\n",
       "      <td>0</td>\n",
       "      <td>0</td>\n",
       "      <td>0</td>\n",
       "      <td>0</td>\n",
       "      <td>0</td>\n",
       "      <td>0</td>\n",
       "      <td>0</td>\n",
       "      <td>0</td>\n",
       "      <td>0</td>\n",
       "      <td>0</td>\n",
       "    </tr>\n",
       "    <tr>\n",
       "      <th>2</th>\n",
       "      <td>2</td>\n",
       "      <td>0</td>\n",
       "      <td>0</td>\n",
       "      <td>0</td>\n",
       "      <td>0</td>\n",
       "      <td>0</td>\n",
       "      <td>0</td>\n",
       "      <td>0</td>\n",
       "      <td>0</td>\n",
       "      <td>0</td>\n",
       "      <td>...</td>\n",
       "      <td>0</td>\n",
       "      <td>0</td>\n",
       "      <td>0</td>\n",
       "      <td>0</td>\n",
       "      <td>0</td>\n",
       "      <td>0</td>\n",
       "      <td>0</td>\n",
       "      <td>0</td>\n",
       "      <td>0</td>\n",
       "      <td>0</td>\n",
       "    </tr>\n",
       "  </tbody>\n",
       "</table>\n",
       "<p>3 rows × 785 columns</p>\n",
       "</div>"
      ],
      "text/plain": [
       "   label  pixel0  pixel1  pixel2  pixel3  pixel4  pixel5  pixel6  pixel7  \\\n",
       "0      0       0       0       0       0       0       0       0       0   \n",
       "1      1       0       0       0       0       0       0       0       0   \n",
       "2      2       0       0       0       0       0       0       0       0   \n",
       "\n",
       "   pixel8  ...  pixel774  pixel775  pixel776  pixel777  pixel778  pixel779  \\\n",
       "0       0  ...         0         0         0         0         0         0   \n",
       "1       0  ...         0         0         0         0         0         0   \n",
       "2       0  ...         0         0         0         0         0         0   \n",
       "\n",
       "   pixel780  pixel781  pixel782  pixel783  \n",
       "0         0         0         0         0  \n",
       "1         0         0         0         0  \n",
       "2         0         0         0         0  \n",
       "\n",
       "[3 rows x 785 columns]"
      ]
     },
     "execution_count": 15,
     "metadata": {},
     "output_type": "execute_result"
    }
   ],
   "source": [
    "df_train.head(3)"
   ]
  },
  {
   "cell_type": "code",
   "execution_count": 16,
   "metadata": {
    "execution": {
     "iopub.execute_input": "2021-09-21T14:12:35.929230Z",
     "iopub.status.busy": "2021-09-21T14:12:35.928780Z",
     "iopub.status.idle": "2021-09-21T14:12:35.944920Z",
     "shell.execute_reply": "2021-09-21T14:12:35.944097Z",
     "shell.execute_reply.started": "2021-09-21T14:12:35.929187Z"
    }
   },
   "outputs": [
    {
     "data": {
      "text/html": [
       "<div>\n",
       "<style scoped>\n",
       "    .dataframe tbody tr th:only-of-type {\n",
       "        vertical-align: middle;\n",
       "    }\n",
       "\n",
       "    .dataframe tbody tr th {\n",
       "        vertical-align: top;\n",
       "    }\n",
       "\n",
       "    .dataframe thead th {\n",
       "        text-align: right;\n",
       "    }\n",
       "</style>\n",
       "<table border=\"1\" class=\"dataframe\">\n",
       "  <thead>\n",
       "    <tr style=\"text-align: right;\">\n",
       "      <th></th>\n",
       "      <th>id</th>\n",
       "      <th>pixel0</th>\n",
       "      <th>pixel1</th>\n",
       "      <th>pixel2</th>\n",
       "      <th>pixel3</th>\n",
       "      <th>pixel4</th>\n",
       "      <th>pixel5</th>\n",
       "      <th>pixel6</th>\n",
       "      <th>pixel7</th>\n",
       "      <th>pixel8</th>\n",
       "      <th>...</th>\n",
       "      <th>pixel774</th>\n",
       "      <th>pixel775</th>\n",
       "      <th>pixel776</th>\n",
       "      <th>pixel777</th>\n",
       "      <th>pixel778</th>\n",
       "      <th>pixel779</th>\n",
       "      <th>pixel780</th>\n",
       "      <th>pixel781</th>\n",
       "      <th>pixel782</th>\n",
       "      <th>pixel783</th>\n",
       "    </tr>\n",
       "  </thead>\n",
       "  <tbody>\n",
       "    <tr>\n",
       "      <th>0</th>\n",
       "      <td>0</td>\n",
       "      <td>0</td>\n",
       "      <td>0</td>\n",
       "      <td>0</td>\n",
       "      <td>0</td>\n",
       "      <td>0</td>\n",
       "      <td>0</td>\n",
       "      <td>0</td>\n",
       "      <td>0</td>\n",
       "      <td>0</td>\n",
       "      <td>...</td>\n",
       "      <td>0</td>\n",
       "      <td>0</td>\n",
       "      <td>0</td>\n",
       "      <td>0</td>\n",
       "      <td>0</td>\n",
       "      <td>0</td>\n",
       "      <td>0</td>\n",
       "      <td>0</td>\n",
       "      <td>0</td>\n",
       "      <td>0</td>\n",
       "    </tr>\n",
       "    <tr>\n",
       "      <th>1</th>\n",
       "      <td>1</td>\n",
       "      <td>0</td>\n",
       "      <td>0</td>\n",
       "      <td>0</td>\n",
       "      <td>0</td>\n",
       "      <td>0</td>\n",
       "      <td>0</td>\n",
       "      <td>0</td>\n",
       "      <td>0</td>\n",
       "      <td>0</td>\n",
       "      <td>...</td>\n",
       "      <td>0</td>\n",
       "      <td>0</td>\n",
       "      <td>0</td>\n",
       "      <td>0</td>\n",
       "      <td>0</td>\n",
       "      <td>0</td>\n",
       "      <td>0</td>\n",
       "      <td>0</td>\n",
       "      <td>0</td>\n",
       "      <td>0</td>\n",
       "    </tr>\n",
       "    <tr>\n",
       "      <th>2</th>\n",
       "      <td>2</td>\n",
       "      <td>0</td>\n",
       "      <td>0</td>\n",
       "      <td>0</td>\n",
       "      <td>0</td>\n",
       "      <td>0</td>\n",
       "      <td>0</td>\n",
       "      <td>0</td>\n",
       "      <td>0</td>\n",
       "      <td>0</td>\n",
       "      <td>...</td>\n",
       "      <td>0</td>\n",
       "      <td>0</td>\n",
       "      <td>0</td>\n",
       "      <td>0</td>\n",
       "      <td>0</td>\n",
       "      <td>0</td>\n",
       "      <td>0</td>\n",
       "      <td>0</td>\n",
       "      <td>0</td>\n",
       "      <td>0</td>\n",
       "    </tr>\n",
       "  </tbody>\n",
       "</table>\n",
       "<p>3 rows × 785 columns</p>\n",
       "</div>"
      ],
      "text/plain": [
       "   id  pixel0  pixel1  pixel2  pixel3  pixel4  pixel5  pixel6  pixel7  pixel8  \\\n",
       "0   0       0       0       0       0       0       0       0       0       0   \n",
       "1   1       0       0       0       0       0       0       0       0       0   \n",
       "2   2       0       0       0       0       0       0       0       0       0   \n",
       "\n",
       "   ...  pixel774  pixel775  pixel776  pixel777  pixel778  pixel779  pixel780  \\\n",
       "0  ...         0         0         0         0         0         0         0   \n",
       "1  ...         0         0         0         0         0         0         0   \n",
       "2  ...         0         0         0         0         0         0         0   \n",
       "\n",
       "   pixel781  pixel782  pixel783  \n",
       "0         0         0         0  \n",
       "1         0         0         0  \n",
       "2         0         0         0  \n",
       "\n",
       "[3 rows x 785 columns]"
      ]
     },
     "execution_count": 16,
     "metadata": {},
     "output_type": "execute_result"
    }
   ],
   "source": [
    "df_test.head(3)"
   ]
  },
  {
   "cell_type": "markdown",
   "metadata": {},
   "source": [
    "Как можно заметить, данные представляют из себя значения каждого из пикселей в конкретной картинке. Изображения цифр имеют размер $28\\times28=784$ пикселя, их значения мы и можем наблюдать в столбцах датафреймов. В тренировочном датасете есть еще правильные метки классов. \n",
    "\n",
    "Выведем распределение тренировочного датасета по меткам:"
   ]
  },
  {
   "cell_type": "code",
   "execution_count": 17,
   "metadata": {
    "execution": {
     "iopub.execute_input": "2021-09-21T14:20:02.276234Z",
     "iopub.status.busy": "2021-09-21T14:20:02.275827Z",
     "iopub.status.idle": "2021-09-21T14:20:02.512451Z",
     "shell.execute_reply": "2021-09-21T14:20:02.511447Z",
     "shell.execute_reply.started": "2021-09-21T14:20:02.276203Z"
    }
   },
   "outputs": [
    {
     "data": {
      "text/plain": [
       "<AxesSubplot:xlabel='label', ylabel='count'>"
      ]
     },
     "execution_count": 17,
     "metadata": {},
     "output_type": "execute_result"
    },
    {
     "data": {
      "image/png": "[encoded data removed]",
      "text/plain": [
       "<Figure size 432x288 with 1 Axes>"
      ]
     },
     "metadata": {},
     "output_type": "display_data"
    }
   ],
   "source": [
    "sns.countplot(x='label', data=df_train)"
   ]
  },
  {
   "cell_type": "markdown",
   "metadata": {},
   "source": [
    "Все классы сбалансированы, что радует. Всего 6000 изображений каждой из цифр.\n",
    "\n",
    "Проведем подготовку данных:"
   ]
  },
  {
   "cell_type": "code",
   "execution_count": 18,
   "metadata": {
    "execution": {
     "iopub.execute_input": "2021-09-21T14:22:11.409343Z",
     "iopub.status.busy": "2021-09-21T14:22:11.408991Z",
     "iopub.status.idle": "2021-09-21T14:22:11.533502Z",
     "shell.execute_reply": "2021-09-21T14:22:11.532548Z",
     "shell.execute_reply.started": "2021-09-21T14:22:11.409314Z"
    }
   },
   "outputs": [],
   "source": [
    "X_test = df_test.drop(columns='id')\n",
    "X_train = df_train.drop(columns='label')\n",
    "y_train = df_train['label']"
   ]
  },
  {
   "cell_type": "markdown",
   "metadata": {},
   "source": [
    "Выведем первые 20 изображений:"
   ]
  },
  {
   "cell_type": "code",
   "execution_count": 19,
   "metadata": {
    "execution": {
     "iopub.execute_input": "2021-09-21T14:22:16.764118Z",
     "iopub.status.busy": "2021-09-21T14:22:16.763660Z",
     "iopub.status.idle": "2021-09-21T14:22:18.258928Z",
     "shell.execute_reply": "2021-09-21T14:22:18.258157Z",
     "shell.execute_reply.started": "2021-09-21T14:22:16.764075Z"
    }
   },
   "outputs": [
    {
     "data": {
      "image/png": "[encoded data removed]",
      "text/plain": [
       "<Figure size 648x648 with 20 Axes>"
      ]
     },
     "metadata": {},
     "output_type": "display_data"
    }
   ],
   "source": [
    "rows, cols = 4, 5\n",
    "\n",
    "fig, ax = plt.subplots(nrows=rows, ncols=cols, figsize=(9,9))\n",
    "\n",
    "for i in range(rows):\n",
    "    for j in range(cols):\n",
    "        ax[i][j].set_title(y_train[i+j])\n",
    "        ax[i][j].axis('off')\n",
    "        ax[i][j].imshow(X_train.iloc[i+j, :].values.reshape(28, 28), cmap='gray')"
   ]
  },
  {
   "cell_type": "markdown",
   "metadata": {},
   "source": [
    "Разобьем тренировочную выборку на обучающую и валидационную, чтобы следить за появлением переобучения. Под валидационную выборку оставим $20\\%$ данных.\n",
    "\n",
    "Разбиваем с сохранением баланса классов:"
   ]
  },
  {
   "cell_type": "code",
   "execution_count": 20,
   "metadata": {
    "execution": {
     "iopub.execute_input": "2021-09-21T14:25:58.350775Z",
     "iopub.status.busy": "2021-09-21T14:25:58.350399Z",
     "iopub.status.idle": "2021-09-21T14:25:58.666378Z",
     "shell.execute_reply": "2021-09-21T14:25:58.665299Z",
     "shell.execute_reply.started": "2021-09-21T14:25:58.350739Z"
    }
   },
   "outputs": [
    {
     "name": "stdout",
     "output_type": "stream",
     "text": [
      "58800\n",
      "1200\n",
      "5000\n"
     ]
    }
   ],
   "source": [
    "X_train, X_dev, y_train, y_dev = train_test_split(X_train, y_train, stratify=y_train, random_state=42, test_size=0.02)\n",
    "\n",
    "print(len(X_train))\n",
    "print(len(X_dev))\n",
    "print(len(X_test))"
   ]
  },
  {
   "cell_type": "code",
   "execution_count": 21,
   "metadata": {
    "execution": {
     "iopub.execute_input": "2021-09-21T14:26:01.573441Z",
     "iopub.status.busy": "2021-09-21T14:26:01.573078Z",
     "iopub.status.idle": "2021-09-21T14:26:01.789512Z",
     "shell.execute_reply": "2021-09-21T14:26:01.788553Z",
     "shell.execute_reply.started": "2021-09-21T14:26:01.573410Z"
    }
   },
   "outputs": [
    {
     "data": {
      "text/plain": [
       "<AxesSubplot:xlabel='label', ylabel='count'>"
      ]
     },
     "execution_count": 21,
     "metadata": {},
     "output_type": "execute_result"
    },
    {
     "data": {
      "image/png": "[encoded data removed]",
      "text/plain": [
       "<Figure size 432x288 with 1 Axes>"
      ]
     },
     "metadata": {},
     "output_type": "display_data"
    }
   ],
   "source": [
    "sns.countplot(x=y_dev.index, data=y_dev)"
   ]
  },
  {
   "cell_type": "markdown",
   "metadata": {},
   "source": [
    "# Подготовка данных для обучени НС\n",
    "\n",
    "Так как данные даны не в формате изображения, то проще всего будет написать собственный класс, наследованный от Dataset, который позволит удобно работать с pandas.DataFrame. \n",
    "\n",
    "Для этого надо переопределить функции __len__() и __getitem__():"
   ]
  },
  {
   "cell_type": "code",
   "execution_count": 24,
   "metadata": {
    "execution": {
     "iopub.execute_input": "2021-09-21T14:44:56.743815Z",
     "iopub.status.busy": "2021-09-21T14:44:56.743444Z",
     "iopub.status.idle": "2021-09-21T14:44:56.750773Z",
     "shell.execute_reply": "2021-09-21T14:44:56.749555Z",
     "shell.execute_reply.started": "2021-09-21T14:44:56.743783Z"
    }
   },
   "outputs": [],
   "source": [
    "class Dataset_df(Dataset): \n",
    "    def __init__(self,\n",
    "                 images,\n",
    "                 labels=None,\n",
    "                 transform=None,\n",
    "                ):\n",
    "        self.X = images\n",
    "        self.y = labels\n",
    "        \n",
    "        self.transform = transform\n",
    "    \n",
    "    def __len__(self):\n",
    "        return len(self.X)\n",
    "\n",
    "    def __getitem__(self, idx):\n",
    "        img = np.array(self.X.iloc[idx, :], dtype='uint8').reshape([28, 28, 1])\n",
    "        if self.transform is not None:\n",
    "            img = self.transform(img)\n",
    "        \n",
    "        if self.y is not None:\n",
    "            return img, self.y.iloc[idx]\n",
    "        \n",
    "        return img"
   ]
  },
  {
   "cell_type": "markdown",
   "metadata": {},
   "source": [
    "Данные из датафрейма представляются numpy-массивами размером $28\\times28$. Затем с помощью трасформера массивы переводят в PIL картинки, после чего случайным образом изменяют их (это делается для усиления обучения НС) и переводят в torch.Tensor:"
   ]
  },
  {
   "cell_type": "code",
   "execution_count": 25,
   "metadata": {
    "execution": {
     "iopub.execute_input": "2021-09-21T14:47:14.212524Z",
     "iopub.status.busy": "2021-09-21T14:47:14.212187Z",
     "iopub.status.idle": "2021-09-21T14:47:14.219129Z",
     "shell.execute_reply": "2021-09-21T14:47:14.218185Z",
     "shell.execute_reply.started": "2021-09-21T14:47:14.212494Z"
    }
   },
   "outputs": [],
   "source": [
    "train_transform = transforms.Compose([\n",
    "    transforms.ToPILImage(),\n",
    "    transforms.RandomAffine(degrees=5, translate=(0.1, 0.1), scale=(0.9, 1.1), shear=5),\n",
    "    transforms.ToTensor()\n",
    "])\n",
    "\n",
    "# Test data without augmentation\n",
    "test_transform = transforms.Compose([\n",
    "    transforms.ToPILImage(),\n",
    "    transforms.ToTensor()\n",
    "])"
   ]
  },
  {
   "cell_type": "code",
   "execution_count": 26,
   "metadata": {
    "execution": {
     "iopub.execute_input": "2021-09-21T14:47:27.624754Z",
     "iopub.status.busy": "2021-09-21T14:47:27.624394Z",
     "iopub.status.idle": "2021-09-21T14:47:27.628642Z",
     "shell.execute_reply": "2021-09-21T14:47:27.627585Z",
     "shell.execute_reply.started": "2021-09-21T14:47:27.624715Z"
    }
   },
   "outputs": [],
   "source": [
    "train_dataset = Dataset_df(X_train, y_train, train_transform)\n",
    "val_dataset = Dataset_df(X_train, y_train, train_transform)"
   ]
  },
  {
   "cell_type": "markdown",
   "metadata": {},
   "source": [
    "С помощью DataLoader удобно разбивать данные на бачи и учить нейронную сеть."
   ]
  },
  {
   "cell_type": "code",
   "execution_count": 28,
   "metadata": {
    "execution": {
     "iopub.execute_input": "2021-09-21T14:49:38.227635Z",
     "iopub.status.busy": "2021-09-21T14:49:38.227311Z",
     "iopub.status.idle": "2021-09-21T14:49:38.233002Z",
     "shell.execute_reply": "2021-09-21T14:49:38.231401Z",
     "shell.execute_reply.started": "2021-09-21T14:49:38.227605Z"
    }
   },
   "outputs": [],
   "source": [
    "BATCH_SIZE = 64\n",
    "train_loader = DataLoader(dataset=train_dataset, batch_size=BATCH_SIZE, shuffle=True, num_workers=4)\n",
    "val_loader = DataLoader(dataset=val_dataset, batch_size=BATCH_SIZE, shuffle=False, num_workers=4)"
   ]
  },
  {
   "cell_type": "markdown",
   "metadata": {},
   "source": [
    "Проверим, правильно ли все работает:"
   ]
  },
  {
   "cell_type": "code",
   "execution_count": 29,
   "metadata": {
    "execution": {
     "iopub.execute_input": "2021-09-21T14:49:43.377606Z",
     "iopub.status.busy": "2021-09-21T14:49:43.377278Z",
     "iopub.status.idle": "2021-09-21T14:49:43.887559Z",
     "shell.execute_reply": "2021-09-21T14:49:43.886722Z",
     "shell.execute_reply.started": "2021-09-21T14:49:43.377574Z"
    }
   },
   "outputs": [
    {
     "data": {
      "text/plain": [
       "<matplotlib.image.AxesImage at 0x7fd71d496490>"
      ]
     },
     "execution_count": 29,
     "metadata": {},
     "output_type": "execute_result"
    },
    {
     "data": {
      "image/png": "[encoded data removed]",
      "text/plain": [
       "<Figure size 432x288 with 1 Axes>"
      ]
     },
     "metadata": {},
     "output_type": "display_data"
    }
   ],
   "source": [
    "img, label = next(iter(train_loader))\n",
    "plt.title(label[0].item())\n",
    "plt.imshow(img[0].squeeze(), cmap=\"gray\")"
   ]
  },
  {
   "cell_type": "markdown",
   "metadata": {},
   "source": [
    "# Нейронная сеть"
   ]
  },
  {
   "cell_type": "code",
   "execution_count": 30,
   "metadata": {
    "execution": {
     "iopub.execute_input": "2021-09-21T14:56:09.957608Z",
     "iopub.status.busy": "2021-09-21T14:56:09.957252Z",
     "iopub.status.idle": "2021-09-21T14:56:10.007895Z",
     "shell.execute_reply": "2021-09-21T14:56:10.006866Z",
     "shell.execute_reply.started": "2021-09-21T14:56:09.957575Z"
    }
   },
   "outputs": [
    {
     "data": {
      "text/plain": [
       "'cuda'"
      ]
     },
     "execution_count": 30,
     "metadata": {},
     "output_type": "execute_result"
    }
   ],
   "source": [
    "device = 'cuda' if torch.cuda.is_available() else 'cpu'\n",
    "device"
   ]
  },
  {
   "cell_type": "code",
   "execution_count": 32,
   "metadata": {
    "execution": {
     "iopub.execute_input": "2021-09-21T15:04:13.341476Z",
     "iopub.status.busy": "2021-09-21T15:04:13.341135Z",
     "iopub.status.idle": "2021-09-21T15:04:13.348781Z",
     "shell.execute_reply": "2021-09-21T15:04:13.347668Z",
     "shell.execute_reply.started": "2021-09-21T15:04:13.341446Z"
    }
   },
   "outputs": [],
   "source": [
    "class ConvLayer(nn.Module):\n",
    "    def __init__(self, input_size, output_size, kernel_size=3, stride=1, padding=1):\n",
    "        super(ConvLayer, self).__init__()\n",
    "        self.layer = nn.Sequential(nn.Conv2d(input_size, output_size, kernel_size=kernel_size, stride=stride, padding=padding),\n",
    "                                   nn.ReLU(inplace=True),\n",
    "                                   nn.BatchNorm2d(output_size))\n",
    "    \n",
    "    def forward(self, x):\n",
    "        return self.layer(x)\n",
    "\n",
    "class FCLayer(nn.Module):\n",
    "    def __init__(self, input_size, output_size):\n",
    "        super(FCLayer, self).__init__()\n",
    "        self.ops = nn.Sequential(nn.Linear(input_size, output_size),\n",
    "                                 nn.ReLU(inplace=True),\n",
    "                                 nn.BatchNorm1d(output_size))\n",
    "    \n",
    "    def forward(self, x):\n",
    "        return self.ops(x)"
   ]
  },
  {
   "cell_type": "code",
   "execution_count": 33,
   "metadata": {
    "execution": {
     "iopub.execute_input": "2021-09-21T15:04:17.530769Z",
     "iopub.status.busy": "2021-09-21T15:04:17.530400Z",
     "iopub.status.idle": "2021-09-21T15:04:17.540798Z",
     "shell.execute_reply": "2021-09-21T15:04:17.539969Z",
     "shell.execute_reply.started": "2021-09-21T15:04:17.530733Z"
    }
   },
   "outputs": [],
   "source": [
    "class Net(nn.Module):\n",
    "    def __init__(self, num_classes=10):\n",
    "        super(Net, self).__init__()\n",
    "        self.conv1 = ConvLayer(1, 64)\n",
    "        self.conv2 = ConvLayer(64, 64)\n",
    "        self.conv3 = ConvLayer(64, 64)\n",
    "        self.conv4 = ConvLayer(64, 64)\n",
    "        self.conv5 = ConvLayer(64, 64)\n",
    "        self.max_pool1 = nn.MaxPool2d(kernel_size=2, stride=2)\n",
    "        \n",
    "        self.conv6 = ConvLayer(64, 64)\n",
    "        self.conv7 = ConvLayer(64, 64)\n",
    "        self.conv8 = ConvLayer(64, 64)\n",
    "        self.max_pool2 = nn.MaxPool2d(kernel_size=2, stride=2)\n",
    "        \n",
    "        self.fc1 = FCLayer(64*7*7, 1024)\n",
    "        self.fc2 = FCLayer(1024, 1024)\n",
    "        self.fc3 = nn.Linear(1024, num_classes)\n",
    "        \n",
    "    def forward(self, x):\n",
    "        x = self.conv1(x)\n",
    "        x = self.conv2(x)\n",
    "        x = self.conv3(x)\n",
    "        x = self.conv4(x)\n",
    "        x = self.conv5(x)\n",
    "        x = self.max_pool1(x)\n",
    "        \n",
    "        x = self.conv6(x)\n",
    "        x = self.conv7(x)\n",
    "        x = self.conv8(x)\n",
    "        x = self.max_pool2(x)\n",
    "        \n",
    "        x = torch.flatten(x, 1)\n",
    "        x = self.fc1(x)\n",
    "        x = self.fc2(x)\n",
    "        x = self.fc3(x)\n",
    "        \n",
    "        return x"
   ]
  },
  {
   "cell_type": "markdown",
   "metadata": {},
   "source": [
    "Так как у нас задача классификации, то используем кросс-энтрапию в качестве критерия. Оптимизатор Адам с уменьшающейся скоростью обучения. Обучать будем на 16 эпохах, ибо ждать не хочется долго. "
   ]
  },
  {
   "cell_type": "code",
   "execution_count": 35,
   "metadata": {
    "execution": {
     "iopub.execute_input": "2021-09-21T15:06:16.823906Z",
     "iopub.status.busy": "2021-09-21T15:06:16.823452Z",
     "iopub.status.idle": "2021-09-21T15:06:16.915800Z",
     "shell.execute_reply": "2021-09-21T15:06:16.914823Z",
     "shell.execute_reply.started": "2021-09-21T15:06:16.823868Z"
    }
   },
   "outputs": [],
   "source": [
    "learning_rate = 1e-2\n",
    "num_epochs = 16\n",
    "\n",
    "model = Net()\n",
    "model = model.to(device)\n",
    "criterion = nn.CrossEntropyLoss().to(device)\n",
    "optimizer = optim.Adam(model.parameters(), lr=learning_rate)\n",
    "scheduler = optim.lr_scheduler.ReduceLROnPlateau(optimizer, 'min', factor=0.1, patience = 5)"
   ]
  },
  {
   "cell_type": "markdown",
   "metadata": {},
   "source": [
    "Проверим, нет ли ошибки в структуре НС:"
   ]
  },
  {
   "cell_type": "code",
   "execution_count": 36,
   "metadata": {
    "execution": {
     "iopub.execute_input": "2021-09-21T15:07:10.122959Z",
     "iopub.status.busy": "2021-09-21T15:07:10.122554Z",
     "iopub.status.idle": "2021-09-21T15:07:10.973160Z",
     "shell.execute_reply": "2021-09-21T15:07:10.972108Z",
     "shell.execute_reply.started": "2021-09-21T15:07:10.122925Z"
    }
   },
   "outputs": [
    {
     "data": {
      "text/plain": [
       "torch.Size([64, 10])"
      ]
     },
     "execution_count": 36,
     "metadata": {},
     "output_type": "execute_result"
    }
   ],
   "source": [
    "X = torch.randn(64, 1, 28, 28).to(device)\n",
    "model(X).shape"
   ]
  },
  {
   "cell_type": "markdown",
   "metadata": {},
   "source": [
    "Запускаем обучение на 16 эпохах, а также контролируем ошибку на валидационном датасете:"
   ]
  },
  {
   "cell_type": "code",
   "execution_count": 37,
   "metadata": {
    "execution": {
     "iopub.execute_input": "2021-09-21T15:09:05.422612Z",
     "iopub.status.busy": "2021-09-21T15:09:05.422245Z",
     "iopub.status.idle": "2021-09-21T15:24:36.613877Z",
     "shell.execute_reply": "2021-09-21T15:24:36.612788Z",
     "shell.execute_reply.started": "2021-09-21T15:09:05.422579Z"
    }
   },
   "outputs": [
    {
     "name": "stdout",
     "output_type": "stream",
     "text": [
      "Epoch [1/16], Step [100/919], Loss: 0.3432, Accuracy: 92.19%\n",
      "Epoch [1/16], Step [200/919], Loss: 0.0264, Accuracy: 98.44%\n",
      "Epoch [1/16], Step [300/919], Loss: 0.2404, Accuracy: 95.31%\n",
      "Epoch [1/16], Step [400/919], Loss: 0.0881, Accuracy: 96.88%\n",
      "Epoch [1/16], Step [500/919], Loss: 0.3646, Accuracy: 93.75%\n",
      "Epoch [1/16], Step [600/919], Loss: 0.1683, Accuracy: 92.19%\n",
      "Epoch [1/16], Step [700/919], Loss: 0.0805, Accuracy: 93.75%\n",
      "Epoch [1/16], Step [800/919], Loss: 0.0776, Accuracy: 98.44%\n",
      "Epoch [1/16], Step [900/919], Loss: 0.1121, Accuracy: 93.75%\n",
      "Validation Accuracy of the model: 97.1734693877551%\n",
      "Epoch [2/16], Step [100/919], Loss: 0.1015, Accuracy: 96.88%\n",
      "Epoch [2/16], Step [200/919], Loss: 0.0217, Accuracy: 100.00%\n",
      "Epoch [2/16], Step [300/919], Loss: 0.0078, Accuracy: 100.00%\n",
      "Epoch [2/16], Step [400/919], Loss: 0.0787, Accuracy: 96.88%\n",
      "Epoch [2/16], Step [500/919], Loss: 0.0072, Accuracy: 100.00%\n",
      "Epoch [2/16], Step [600/919], Loss: 0.0661, Accuracy: 96.88%\n",
      "Epoch [2/16], Step [700/919], Loss: 0.1042, Accuracy: 98.44%\n",
      "Epoch [2/16], Step [800/919], Loss: 0.0460, Accuracy: 96.88%\n",
      "Epoch [2/16], Step [900/919], Loss: 0.2332, Accuracy: 95.31%\n",
      "Validation Accuracy of the model: 98.0561224489796%\n",
      "Epoch [3/16], Step [100/919], Loss: 0.0191, Accuracy: 100.00%\n",
      "Epoch [3/16], Step [200/919], Loss: 0.1128, Accuracy: 98.44%\n",
      "Epoch [3/16], Step [300/919], Loss: 0.0257, Accuracy: 100.00%\n",
      "Epoch [3/16], Step [400/919], Loss: 0.0033, Accuracy: 100.00%\n",
      "Epoch [3/16], Step [500/919], Loss: 0.0247, Accuracy: 100.00%\n",
      "Epoch [3/16], Step [600/919], Loss: 0.0261, Accuracy: 100.00%\n",
      "Epoch [3/16], Step [700/919], Loss: 0.0575, Accuracy: 96.88%\n",
      "Epoch [3/16], Step [800/919], Loss: 0.0194, Accuracy: 98.44%\n",
      "Epoch [3/16], Step [900/919], Loss: 0.0287, Accuracy: 98.44%\n",
      "Validation Accuracy of the model: 98.50340136054422%\n",
      "Epoch [4/16], Step [100/919], Loss: 0.0854, Accuracy: 98.44%\n",
      "Epoch [4/16], Step [200/919], Loss: 0.0021, Accuracy: 100.00%\n",
      "Epoch [4/16], Step [300/919], Loss: 0.1899, Accuracy: 93.75%\n",
      "Epoch [4/16], Step [400/919], Loss: 0.0265, Accuracy: 98.44%\n",
      "Epoch [4/16], Step [500/919], Loss: 0.0329, Accuracy: 98.44%\n",
      "Epoch [4/16], Step [600/919], Loss: 0.0578, Accuracy: 98.44%\n",
      "Epoch [4/16], Step [700/919], Loss: 0.1621, Accuracy: 96.88%\n",
      "Epoch [4/16], Step [800/919], Loss: 0.0131, Accuracy: 100.00%\n",
      "Epoch [4/16], Step [900/919], Loss: 0.1253, Accuracy: 96.88%\n",
      "Validation Accuracy of the model: 98.59013605442178%\n",
      "Epoch [5/16], Step [100/919], Loss: 0.1466, Accuracy: 95.31%\n",
      "Epoch [5/16], Step [200/919], Loss: 0.0884, Accuracy: 98.44%\n",
      "Epoch [5/16], Step [300/919], Loss: 0.0486, Accuracy: 96.88%\n",
      "Epoch [5/16], Step [400/919], Loss: 0.0991, Accuracy: 95.31%\n",
      "Epoch [5/16], Step [500/919], Loss: 0.0982, Accuracy: 96.88%\n",
      "Epoch [5/16], Step [600/919], Loss: 0.0757, Accuracy: 96.88%\n",
      "Epoch [5/16], Step [700/919], Loss: 0.0097, Accuracy: 100.00%\n",
      "Epoch [5/16], Step [800/919], Loss: 0.0533, Accuracy: 96.88%\n",
      "Epoch [5/16], Step [900/919], Loss: 0.0068, Accuracy: 100.00%\n",
      "Validation Accuracy of the model: 98.8860544217687%\n",
      "Epoch [6/16], Step [100/919], Loss: 0.0270, Accuracy: 98.44%\n",
      "Epoch [6/16], Step [200/919], Loss: 0.0172, Accuracy: 98.44%\n",
      "Epoch [6/16], Step [300/919], Loss: 0.0036, Accuracy: 100.00%\n",
      "Epoch [6/16], Step [400/919], Loss: 0.0040, Accuracy: 100.00%\n",
      "Epoch [6/16], Step [500/919], Loss: 0.0568, Accuracy: 98.44%\n",
      "Epoch [6/16], Step [600/919], Loss: 0.0254, Accuracy: 98.44%\n",
      "Epoch [6/16], Step [700/919], Loss: 0.0120, Accuracy: 100.00%\n",
      "Epoch [6/16], Step [800/919], Loss: 0.1391, Accuracy: 96.88%\n",
      "Epoch [6/16], Step [900/919], Loss: 0.0205, Accuracy: 98.44%\n",
      "Validation Accuracy of the model: 98.656462585034%\n",
      "Epoch [7/16], Step [100/919], Loss: 0.0006, Accuracy: 100.00%\n",
      "Epoch [7/16], Step [200/919], Loss: 0.0156, Accuracy: 100.00%\n",
      "Epoch [7/16], Step [300/919], Loss: 0.1327, Accuracy: 96.88%\n",
      "Epoch [7/16], Step [400/919], Loss: 0.1064, Accuracy: 98.44%\n",
      "Epoch [7/16], Step [500/919], Loss: 0.0197, Accuracy: 100.00%\n",
      "Epoch [7/16], Step [600/919], Loss: 0.0238, Accuracy: 98.44%\n",
      "Epoch [7/16], Step [700/919], Loss: 0.0159, Accuracy: 100.00%\n",
      "Epoch [7/16], Step [800/919], Loss: 0.0574, Accuracy: 98.44%\n",
      "Epoch [7/16], Step [900/919], Loss: 0.0917, Accuracy: 96.88%\n",
      "Validation Accuracy of the model: 98.9438775510204%\n",
      "Epoch [8/16], Step [100/919], Loss: 0.0677, Accuracy: 96.88%\n",
      "Epoch [8/16], Step [200/919], Loss: 0.0169, Accuracy: 100.00%\n",
      "Epoch [8/16], Step [300/919], Loss: 0.0025, Accuracy: 100.00%\n",
      "Epoch [8/16], Step [400/919], Loss: 0.0012, Accuracy: 100.00%\n",
      "Epoch [8/16], Step [500/919], Loss: 0.0032, Accuracy: 100.00%\n",
      "Epoch [8/16], Step [600/919], Loss: 0.0147, Accuracy: 100.00%\n",
      "Epoch [8/16], Step [700/919], Loss: 0.0247, Accuracy: 100.00%\n",
      "Epoch [8/16], Step [800/919], Loss: 0.0523, Accuracy: 98.44%\n",
      "Epoch [8/16], Step [900/919], Loss: 0.0022, Accuracy: 100.00%\n",
      "Validation Accuracy of the model: 99.2091836734694%\n",
      "Epoch [9/16], Step [100/919], Loss: 0.0032, Accuracy: 100.00%\n",
      "Epoch [9/16], Step [200/919], Loss: 0.0044, Accuracy: 100.00%\n",
      "Epoch [9/16], Step [300/919], Loss: 0.0009, Accuracy: 100.00%\n",
      "Epoch [9/16], Step [400/919], Loss: 0.0366, Accuracy: 98.44%\n",
      "Epoch [9/16], Step [500/919], Loss: 0.0035, Accuracy: 100.00%\n",
      "Epoch [9/16], Step [600/919], Loss: 0.0024, Accuracy: 100.00%\n",
      "Epoch [9/16], Step [700/919], Loss: 0.0180, Accuracy: 98.44%\n",
      "Epoch [9/16], Step [800/919], Loss: 0.0559, Accuracy: 98.44%\n",
      "Epoch [9/16], Step [900/919], Loss: 0.0028, Accuracy: 100.00%\n",
      "Validation Accuracy of the model: 99.16836734693878%\n",
      "Epoch [10/16], Step [100/919], Loss: 0.0035, Accuracy: 100.00%\n",
      "Epoch [10/16], Step [200/919], Loss: 0.0030, Accuracy: 100.00%\n",
      "Epoch [10/16], Step [300/919], Loss: 0.0140, Accuracy: 98.44%\n",
      "Epoch [10/16], Step [400/919], Loss: 0.0248, Accuracy: 98.44%\n",
      "Epoch [10/16], Step [500/919], Loss: 0.0072, Accuracy: 100.00%\n",
      "Epoch [10/16], Step [600/919], Loss: 0.0008, Accuracy: 100.00%\n",
      "Epoch [10/16], Step [700/919], Loss: 0.0128, Accuracy: 100.00%\n",
      "Epoch [10/16], Step [800/919], Loss: 0.0557, Accuracy: 98.44%\n",
      "Epoch [10/16], Step [900/919], Loss: 0.0048, Accuracy: 100.00%\n",
      "Validation Accuracy of the model: 99.33843537414965%\n",
      "Epoch [11/16], Step [100/919], Loss: 0.0014, Accuracy: 100.00%\n",
      "Epoch [11/16], Step [200/919], Loss: 0.0344, Accuracy: 98.44%\n",
      "Epoch [11/16], Step [300/919], Loss: 0.0060, Accuracy: 100.00%\n",
      "Epoch [11/16], Step [400/919], Loss: 0.0445, Accuracy: 98.44%\n",
      "Epoch [11/16], Step [500/919], Loss: 0.0004, Accuracy: 100.00%\n",
      "Epoch [11/16], Step [600/919], Loss: 0.0093, Accuracy: 100.00%\n",
      "Epoch [11/16], Step [700/919], Loss: 0.0003, Accuracy: 100.00%\n",
      "Epoch [11/16], Step [800/919], Loss: 0.0084, Accuracy: 100.00%\n",
      "Epoch [11/16], Step [900/919], Loss: 0.0034, Accuracy: 100.00%\n",
      "Validation Accuracy of the model: 99.25%\n",
      "Epoch [12/16], Step [100/919], Loss: 0.0005, Accuracy: 100.00%\n",
      "Epoch [12/16], Step [200/919], Loss: 0.0253, Accuracy: 98.44%\n",
      "Epoch [12/16], Step [300/919], Loss: 0.0010, Accuracy: 100.00%\n",
      "Epoch [12/16], Step [400/919], Loss: 0.0007, Accuracy: 100.00%\n",
      "Epoch [12/16], Step [500/919], Loss: 0.0277, Accuracy: 98.44%\n",
      "Epoch [12/16], Step [600/919], Loss: 0.0343, Accuracy: 98.44%\n",
      "Epoch [12/16], Step [700/919], Loss: 0.0005, Accuracy: 100.00%\n",
      "Epoch [12/16], Step [800/919], Loss: 0.0050, Accuracy: 100.00%\n",
      "Epoch [12/16], Step [900/919], Loss: 0.0020, Accuracy: 100.00%\n",
      "Validation Accuracy of the model: 99.54421768707483%\n",
      "Epoch [13/16], Step [100/919], Loss: 0.0447, Accuracy: 98.44%\n",
      "Epoch [13/16], Step [200/919], Loss: 0.0016, Accuracy: 100.00%\n",
      "Epoch [13/16], Step [300/919], Loss: 0.1284, Accuracy: 96.88%\n",
      "Epoch [13/16], Step [400/919], Loss: 0.0006, Accuracy: 100.00%\n",
      "Epoch [13/16], Step [500/919], Loss: 0.0144, Accuracy: 100.00%\n",
      "Epoch [13/16], Step [600/919], Loss: 0.0362, Accuracy: 98.44%\n",
      "Epoch [13/16], Step [700/919], Loss: 0.0698, Accuracy: 96.88%\n",
      "Epoch [13/16], Step [800/919], Loss: 0.0185, Accuracy: 98.44%\n",
      "Epoch [13/16], Step [900/919], Loss: 0.0008, Accuracy: 100.00%\n",
      "Validation Accuracy of the model: 99.4234693877551%\n",
      "Epoch [14/16], Step [100/919], Loss: 0.0351, Accuracy: 98.44%\n",
      "Epoch [14/16], Step [200/919], Loss: 0.0013, Accuracy: 100.00%\n",
      "Epoch [14/16], Step [300/919], Loss: 0.0011, Accuracy: 100.00%\n",
      "Epoch [14/16], Step [400/919], Loss: 0.0006, Accuracy: 100.00%\n",
      "Epoch [14/16], Step [500/919], Loss: 0.1009, Accuracy: 98.44%\n",
      "Epoch [14/16], Step [600/919], Loss: 0.1214, Accuracy: 96.88%\n",
      "Epoch [14/16], Step [700/919], Loss: 0.0008, Accuracy: 100.00%\n",
      "Epoch [14/16], Step [800/919], Loss: 0.0315, Accuracy: 98.44%\n",
      "Epoch [14/16], Step [900/919], Loss: 0.0018, Accuracy: 100.00%\n",
      "Validation Accuracy of the model: 99.42517006802721%\n",
      "Epoch [15/16], Step [100/919], Loss: 0.0434, Accuracy: 98.44%\n",
      "Epoch [15/16], Step [200/919], Loss: 0.0006, Accuracy: 100.00%\n",
      "Epoch [15/16], Step [300/919], Loss: 0.0161, Accuracy: 100.00%\n",
      "Epoch [15/16], Step [400/919], Loss: 0.0005, Accuracy: 100.00%\n",
      "Epoch [15/16], Step [500/919], Loss: 0.0918, Accuracy: 98.44%\n",
      "Epoch [15/16], Step [600/919], Loss: 0.0013, Accuracy: 100.00%\n",
      "Epoch [15/16], Step [700/919], Loss: 0.0016, Accuracy: 100.00%\n",
      "Epoch [15/16], Step [800/919], Loss: 0.0054, Accuracy: 100.00%\n",
      "Epoch [15/16], Step [900/919], Loss: 0.0224, Accuracy: 98.44%\n",
      "Validation Accuracy of the model: 99.4421768707483%\n",
      "Epoch [16/16], Step [100/919], Loss: 0.0426, Accuracy: 96.88%\n",
      "Epoch [16/16], Step [200/919], Loss: 0.0077, Accuracy: 100.00%\n",
      "Epoch [16/16], Step [300/919], Loss: 0.0006, Accuracy: 100.00%\n",
      "Epoch [16/16], Step [400/919], Loss: 0.0048, Accuracy: 100.00%\n",
      "Epoch [16/16], Step [500/919], Loss: 0.0199, Accuracy: 98.44%\n",
      "Epoch [16/16], Step [600/919], Loss: 0.0096, Accuracy: 100.00%\n",
      "Epoch [16/16], Step [700/919], Loss: 0.0122, Accuracy: 98.44%\n",
      "Epoch [16/16], Step [800/919], Loss: 0.0215, Accuracy: 98.44%\n",
      "Epoch [16/16], Step [900/919], Loss: 0.0008, Accuracy: 100.00%\n",
      "Validation Accuracy of the model: 99.45238095238095%\n",
      "CPU times: user 7min 27s, sys: 15.1 s, total: 7min 42s\n",
      "Wall time: 15min 31s\n"
     ]
    }
   ],
   "source": [
    "%%time\n",
    "total_step = len(train_loader)\n",
    "loss_list = []\n",
    "acc_list = []\n",
    "val_list = []\n",
    "for epoch in range(num_epochs):\n",
    "    model.train()\n",
    "    for i, (images, labels) in enumerate(train_loader):\n",
    "        images = images.to(device)\n",
    "        labels = labels.to(device)\n",
    "        outputs = model(images)\n",
    "\n",
    "        loss = criterion(outputs, labels)\n",
    "        loss_list.append(loss.item())\n",
    "\n",
    "        optimizer.zero_grad()\n",
    "        loss.backward()\n",
    "        optimizer.step()\n",
    "\n",
    "        total = labels.size(0)\n",
    "        _, predicted = torch.max(outputs.data, 1)\n",
    "        correct = (predicted == labels).sum().item()\n",
    "        acc_list.append(correct / total)\n",
    "\n",
    "        if (i + 1) % 100 == 0:\n",
    "            print('Epoch [{}/{}], Step [{}/{}], Loss: {:.4f}, Accuracy: {:.2f}%'\n",
    "                  .format(epoch + 1, num_epochs, i + 1, total_step, loss.item(),\n",
    "                          (correct / total) * 100))\n",
    "            \n",
    "    model.eval()\n",
    "    with torch.no_grad():\n",
    "        correct = 0\n",
    "        total = 0\n",
    "        for images, labels in val_loader:\n",
    "            images = images.to(device)\n",
    "            labels = labels.to(device)\n",
    "            outputs = model(images)\n",
    "            _, predicted = torch.max(outputs.data, 1)\n",
    "            total += labels.size(0)\n",
    "            correct += (predicted == labels).sum().item()\n",
    "            \n",
    "        print('Validation Accuracy of the model: {}%'.format((correct / total) * 100))\n",
    "        val_list.append(correct / total)\n",
    "        scheduler.step(val_list[-1])"
   ]
  },
  {
   "cell_type": "markdown",
   "metadata": {},
   "source": [
    "# Анализ обучения НС\n",
    "\n",
    "Графики ошибки и точности на тренировочном датасете и валидационном:"
   ]
  },
  {
   "cell_type": "code",
   "execution_count": 38,
   "metadata": {
    "execution": {
     "iopub.execute_input": "2021-09-21T15:24:48.305142Z",
     "iopub.status.busy": "2021-09-21T15:24:48.304801Z",
     "iopub.status.idle": "2021-09-21T15:24:48.516539Z",
     "shell.execute_reply": "2021-09-21T15:24:48.515776Z",
     "shell.execute_reply.started": "2021-09-21T15:24:48.305110Z"
    }
   },
   "outputs": [
    {
     "data": {
      "text/plain": [
       "<AxesSubplot:>"
      ]
     },
     "execution_count": 38,
     "metadata": {},
     "output_type": "execute_result"
    },
    {
     "data": {
      "image/png": "[encoded data removed]",
      "text/plain": [
       "<Figure size 432x288 with 1 Axes>"
      ]
     },
     "metadata": {},
     "output_type": "display_data"
    }
   ],
   "source": [
    "sns.lineplot(data = loss_list[::150])"
   ]
  },
  {
   "cell_type": "code",
   "execution_count": 39,
   "metadata": {
    "execution": {
     "iopub.execute_input": "2021-09-21T15:24:55.895588Z",
     "iopub.status.busy": "2021-09-21T15:24:55.895252Z",
     "iopub.status.idle": "2021-09-21T15:24:56.077144Z",
     "shell.execute_reply": "2021-09-21T15:24:56.076176Z",
     "shell.execute_reply.started": "2021-09-21T15:24:55.895557Z"
    }
   },
   "outputs": [
    {
     "data": {
      "text/plain": [
       "<AxesSubplot:>"
      ]
     },
     "execution_count": 39,
     "metadata": {},
     "output_type": "execute_result"
    },
    {
     "data": {
      "image/png": "[encoded data removed]",
      "text/plain": [
       "<Figure size 432x288 with 1 Axes>"
      ]
     },
     "metadata": {},
     "output_type": "display_data"
    }
   ],
   "source": [
    "sns.lineplot(data=acc_list[::150])"
   ]
  },
  {
   "cell_type": "code",
   "execution_count": 40,
   "metadata": {
    "execution": {
     "iopub.execute_input": "2021-09-21T15:24:57.001310Z",
     "iopub.status.busy": "2021-09-21T15:24:57.000987Z",
     "iopub.status.idle": "2021-09-21T15:24:57.199094Z",
     "shell.execute_reply": "2021-09-21T15:24:57.198310Z",
     "shell.execute_reply.started": "2021-09-21T15:24:57.001279Z"
    }
   },
   "outputs": [
    {
     "data": {
      "text/plain": [
       "<AxesSubplot:>"
      ]
     },
     "execution_count": 40,
     "metadata": {},
     "output_type": "execute_result"
    },
    {
     "data": {
      "image/png": "[encoded data removed]",
      "text/plain": [
       "<Figure size 432x288 with 1 Axes>"
      ]
     },
     "metadata": {},
     "output_type": "display_data"
    }
   ],
   "source": [
    "sns.lineplot(data=val_list)"
   ]
  },
  {
   "cell_type": "markdown",
   "metadata": {},
   "source": [
    "Как видно из графиков, можно было и дальше обучать модель для улучшения ее качества, но целью было объяснение проделанных действий. Удачи!"
   ]
  },
  {
   "cell_type": "markdown",
   "metadata": {},
   "source": [
    "# Предсказания для тестовой выборки"
   ]
  },
  {
   "cell_type": "code",
   "execution_count": 42,
   "metadata": {
    "execution": {
     "iopub.execute_input": "2021-09-21T15:25:41.554050Z",
     "iopub.status.busy": "2021-09-21T15:25:41.553691Z",
     "iopub.status.idle": "2021-09-21T15:25:41.559340Z",
     "shell.execute_reply": "2021-09-21T15:25:41.558293Z",
     "shell.execute_reply.started": "2021-09-21T15:25:41.554019Z"
    }
   },
   "outputs": [],
   "source": [
    "test_dataset = Dataset_df(X_test, transform=test_transform)\n",
    "test_loader = DataLoader(dataset=test_dataset, batch_size=BATCH_SIZE, shuffle=False, num_workers=4)"
   ]
  },
  {
   "cell_type": "code",
   "execution_count": 43,
   "metadata": {
    "execution": {
     "iopub.execute_input": "2021-09-21T15:25:43.137855Z",
     "iopub.status.busy": "2021-09-21T15:25:43.137480Z",
     "iopub.status.idle": "2021-09-21T15:25:44.780394Z",
     "shell.execute_reply": "2021-09-21T15:25:44.778881Z",
     "shell.execute_reply.started": "2021-09-21T15:25:43.137825Z"
    }
   },
   "outputs": [
    {
     "name": "stderr",
     "output_type": "stream",
     "text": [
      "100%|██████████| 79/79 [00:01<00:00, 48.49it/s]\n"
     ]
    }
   ],
   "source": [
    "model.eval()\n",
    "predictions = []\n",
    "with torch.no_grad():\n",
    "    for data in tqdm(test_loader):\n",
    "        data = data.to(device)\n",
    "        output = torch.argmax(model(data), dim=1)\n",
    "        predictions += list(output.data.cpu().numpy())"
   ]
  },
  {
   "cell_type": "code",
   "execution_count": 44,
   "metadata": {
    "execution": {
     "iopub.execute_input": "2021-09-21T15:25:55.303559Z",
     "iopub.status.busy": "2021-09-21T15:25:55.303224Z",
     "iopub.status.idle": "2021-09-21T15:25:55.339159Z",
     "shell.execute_reply": "2021-09-21T15:25:55.338404Z",
     "shell.execute_reply.started": "2021-09-21T15:25:55.303525Z"
    }
   },
   "outputs": [
    {
     "data": {
      "text/html": [
       "<div>\n",
       "<style scoped>\n",
       "    .dataframe tbody tr th:only-of-type {\n",
       "        vertical-align: middle;\n",
       "    }\n",
       "\n",
       "    .dataframe tbody tr th {\n",
       "        vertical-align: top;\n",
       "    }\n",
       "\n",
       "    .dataframe thead th {\n",
       "        text-align: right;\n",
       "    }\n",
       "</style>\n",
       "<table border=\"1\" class=\"dataframe\">\n",
       "  <thead>\n",
       "    <tr style=\"text-align: right;\">\n",
       "      <th></th>\n",
       "      <th>id</th>\n",
       "      <th>label</th>\n",
       "    </tr>\n",
       "  </thead>\n",
       "  <tbody>\n",
       "    <tr>\n",
       "      <th>0</th>\n",
       "      <td>0</td>\n",
       "      <td>3</td>\n",
       "    </tr>\n",
       "    <tr>\n",
       "      <th>1</th>\n",
       "      <td>1</td>\n",
       "      <td>0</td>\n",
       "    </tr>\n",
       "    <tr>\n",
       "      <th>2</th>\n",
       "      <td>2</td>\n",
       "      <td>2</td>\n",
       "    </tr>\n",
       "    <tr>\n",
       "      <th>3</th>\n",
       "      <td>3</td>\n",
       "      <td>6</td>\n",
       "    </tr>\n",
       "    <tr>\n",
       "      <th>4</th>\n",
       "      <td>4</td>\n",
       "      <td>7</td>\n",
       "    </tr>\n",
       "  </tbody>\n",
       "</table>\n",
       "</div>"
      ],
      "text/plain": [
       "   id  label\n",
       "0   0      3\n",
       "1   1      0\n",
       "2   2      2\n",
       "3   3      6\n",
       "4   4      7"
      ]
     },
     "execution_count": 44,
     "metadata": {},
     "output_type": "execute_result"
    }
   ],
   "source": [
    "submission = pd.read_csv('../input/Kannada-MNIST/sample_submission.csv')\n",
    "submission['label'] = predictions\n",
    "submission.to_csv('submission.csv', index=False)\n",
    "submission.head()"
   ]
  }
 ],
 "metadata": {
  "kernelspec": {
   "display_name": "Python 3",
   "language": "python",
   "name": "python3"
  },
  "language_info": {
   "codemirror_mode": {
    "name": "ipython",
    "version": 3
   },
   "file_extension": ".py",
   "mimetype": "text/x-python",
   "name": "python",
   "nbconvert_exporter": "python",
   "pygments_lexer": "ipython3",
   "version": "3.8.5"
  }
 },
 "nbformat": 4,
 "nbformat_minor": 4
}
